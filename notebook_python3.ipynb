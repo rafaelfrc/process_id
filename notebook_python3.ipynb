{
 "cells": [
  {
   "cell_type": "markdown",
   "metadata": {},
   "source": [
    "Bibliotecas:"
   ]
  },
  {
   "cell_type": "code",
   "execution_count": 2,
   "metadata": {},
   "outputs": [
    {
     "ename": "ImportError",
     "evalue": "No module named pandas",
     "output_type": "error",
     "traceback": [
      "\u001b[0;31m---------------------------------------------------------------------------\u001b[0m",
      "\u001b[0;31mImportError\u001b[0m                               Traceback (most recent call last)",
      "\u001b[0;32m<ipython-input-2-7dd3504c366f>\u001b[0m in \u001b[0;36m<module>\u001b[0;34m()\u001b[0m\n\u001b[0;32m----> 1\u001b[0;31m \u001b[0;32mimport\u001b[0m \u001b[0mpandas\u001b[0m \u001b[0;32mas\u001b[0m \u001b[0mpd\u001b[0m\u001b[0;34m\u001b[0m\u001b[0m\n\u001b[0m",
      "\u001b[0;31mImportError\u001b[0m: No module named pandas"
     ]
    }
   ],
   "source": [
    "import pandas as pd"
   ]
  },
  {
   "cell_type": "markdown",
   "metadata": {},
   "source": [
    "Importando dados:"
   ]
  },
  {
   "cell_type": "code",
   "execution_count": 2,
   "metadata": {},
   "outputs": [],
   "source": [
    "data = pd.read_csv(\"distill2.csv\") "
   ]
  },
  {
   "cell_type": "code",
   "execution_count": 3,
   "metadata": {},
   "outputs": [
    {
     "data": {
      "text/html": [
       "<div>\n",
       "<style scoped>\n",
       "    .dataframe tbody tr th:only-of-type {\n",
       "        vertical-align: middle;\n",
       "    }\n",
       "\n",
       "    .dataframe tbody tr th {\n",
       "        vertical-align: top;\n",
       "    }\n",
       "\n",
       "    .dataframe thead th {\n",
       "        text-align: right;\n",
       "    }\n",
       "</style>\n",
       "<table border=\"1\" class=\"dataframe\">\n",
       "  <thead>\n",
       "    <tr style=\"text-align: right;\">\n",
       "      <th></th>\n",
       "      <th>tempo</th>\n",
       "      <th>u1y1</th>\n",
       "      <th>u1y2</th>\n",
       "      <th>u2y1</th>\n",
       "      <th>u2y2</th>\n",
       "      <th>u3y1</th>\n",
       "      <th>u3y3</th>\n",
       "    </tr>\n",
       "  </thead>\n",
       "  <tbody>\n",
       "    <tr>\n",
       "      <td>0</td>\n",
       "      <td>0</td>\n",
       "      <td>23994.627</td>\n",
       "      <td>0.286914</td>\n",
       "      <td>11997.313</td>\n",
       "      <td>0.143457</td>\n",
       "      <td>119973.13</td>\n",
       "      <td>1.434570</td>\n",
       "    </tr>\n",
       "    <tr>\n",
       "      <td>1</td>\n",
       "      <td>1</td>\n",
       "      <td>24053.918</td>\n",
       "      <td>0.286621</td>\n",
       "      <td>11997.198</td>\n",
       "      <td>0.143457</td>\n",
       "      <td>111867.33</td>\n",
       "      <td>1.434685</td>\n",
       "    </tr>\n",
       "    <tr>\n",
       "      <td>2</td>\n",
       "      <td>2</td>\n",
       "      <td>24112.949</td>\n",
       "      <td>0.286418</td>\n",
       "      <td>11997.277</td>\n",
       "      <td>0.143456</td>\n",
       "      <td>113268.28</td>\n",
       "      <td>1.434935</td>\n",
       "    </tr>\n",
       "    <tr>\n",
       "      <td>3</td>\n",
       "      <td>3</td>\n",
       "      <td>24160.061</td>\n",
       "      <td>0.286233</td>\n",
       "      <td>12001.153</td>\n",
       "      <td>0.143456</td>\n",
       "      <td>114406.39</td>\n",
       "      <td>1.435295</td>\n",
       "    </tr>\n",
       "    <tr>\n",
       "      <td>4</td>\n",
       "      <td>4</td>\n",
       "      <td>24199.354</td>\n",
       "      <td>0.286065</td>\n",
       "      <td>12018.717</td>\n",
       "      <td>0.143458</td>\n",
       "      <td>115246.62</td>\n",
       "      <td>1.435780</td>\n",
       "    </tr>\n",
       "  </tbody>\n",
       "</table>\n",
       "</div>"
      ],
      "text/plain": [
       "   tempo       u1y1      u1y2       u2y1      u2y2       u3y1      u3y3\n",
       "0      0  23994.627  0.286914  11997.313  0.143457  119973.13  1.434570\n",
       "1      1  24053.918  0.286621  11997.198  0.143457  111867.33  1.434685\n",
       "2      2  24112.949  0.286418  11997.277  0.143456  113268.28  1.434935\n",
       "3      3  24160.061  0.286233  12001.153  0.143456  114406.39  1.435295\n",
       "4      4  24199.354  0.286065  12018.717  0.143458  115246.62  1.435780"
      ]
     },
     "execution_count": 3,
     "metadata": {},
     "output_type": "execute_result"
    }
   ],
   "source": [
    "data.head()"
   ]
  },
  {
   "cell_type": "code",
   "execution_count": null,
   "metadata": {},
   "outputs": [],
   "source": []
  }
 ],
 "metadata": {
  "kernelspec": {
   "display_name": "Python 3",
   "language": "python",
   "name": "python3"
  },
  "language_info": {
   "codemirror_mode": {
    "name": "ipython",
    "version": 2
   },
   "file_extension": ".py",
   "mimetype": "text/x-python",
   "name": "python",
   "nbconvert_exporter": "python",
   "pygments_lexer": "ipython2",
   "version": "2.7.17"
  }
 },
 "nbformat": 4,
 "nbformat_minor": 2
}
